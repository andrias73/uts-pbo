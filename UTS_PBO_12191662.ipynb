{
 "cells": [
  {
   "cell_type": "code",
   "execution_count": 5,
   "metadata": {},
   "outputs": [
    {
     "name": "stdout",
     "output_type": "stream",
     "text": [
      "input data\n",
      "Panjang = 4\n",
      "Lebar   = 3\n",
      "Tinggi  = 7\n",
      "Volume Balok = 84.0\n",
      "menghitung volume balok lagi[y/n]?y\n",
      "input data\n",
      "Panjang = 6\n",
      "Lebar   = 8\n",
      "Tinggi  = 3\n",
      "Volume Balok = 144.0\n",
      "menghitung volume balok lagi[y/n]?n\n",
      "terimakasih\n"
     ]
    }
   ],
   "source": [
    "jawab='y'\n",
    "while (True):\n",
    "    print(\"input data\")\n",
    "    p = float(input(\"Panjang = \"))\n",
    "    l = float(input(\"Lebar   = \"))\n",
    "    t = float(input(\"Tinggi  = \"))\n",
    "\n",
    "    v = p*l*t #perhitungan volume balok\n",
    "\n",
    "    print (\"Volume Balok =\",v)\n",
    "\n",
    "    jawab=input(\"menghitung volume balok lagi[y/n]?\")\n",
    "    if (jawab=='n'):\n",
    "        break\n",
    "print(\"terimakasih\")\n",
    "    \n",
    "    "
   ]
  },
  {
   "cell_type": "code",
   "execution_count": null,
   "metadata": {},
   "outputs": [],
   "source": []
  },
  {
   "cell_type": "code",
   "execution_count": null,
   "metadata": {},
   "outputs": [],
   "source": []
  }
 ],
 "metadata": {
  "kernelspec": {
   "display_name": "Python 3",
   "language": "python",
   "name": "python3"
  },
  "language_info": {
   "codemirror_mode": {
    "name": "ipython",
    "version": 3
   },
   "file_extension": ".py",
   "mimetype": "text/x-python",
   "name": "python",
   "nbconvert_exporter": "python",
   "pygments_lexer": "ipython3",
   "version": "3.7.4"
  }
 },
 "nbformat": 4,
 "nbformat_minor": 2
}
